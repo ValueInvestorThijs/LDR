{
 "cells": [
  {
   "attachments": {},
   "cell_type": "markdown",
   "metadata": {},
   "source": [
    "## Classifier for LDR evaluation"
   ]
  },
  {
   "cell_type": "code",
   "execution_count": 2,
   "metadata": {},
   "outputs": [],
   "source": [
    "import os, json, scipy\n",
    "os.environ[\"XLA_FLAGS\"] = \"--xla_gpu_cuda_data_dir=/usr/lib/cuda\"\n",
    "os.environ[\"TF_GPU_ALLOCATOR\"] = \"cuda_malloc_async\"\n",
    "import tensorflow as tf"
   ]
  },
  {
   "attachments": {},
   "cell_type": "markdown",
   "metadata": {},
   "source": [
    "## Data"
   ]
  },
  {
   "cell_type": "code",
   "execution_count": 4,
   "metadata": {},
   "outputs": [],
   "source": [
    "# Define some constants used throughout the script\n",
    "INPUT_SHAPE = (256, 256, 3)\n",
    "FILTERS = [64,128,256,512,512]\n",
    "BATCH_SIZE = 16\n",
    "LATENT_DIM = 254\n",
    "PATH = \"../../data/vangogh2photo/\"\n",
    "\n",
    "# Define a generator to yield images and its path as a label\n",
    "def gen(path):\n",
    "    for file in os.listdir(path):\n",
    "        image = tf.io.read_file(os.path.join(path, file))\n",
    "        image = tf.io.decode_image(image, dtype=tf.float32)\n",
    "        yield image\n",
    "\n",
    "# Define a function to randomly modify images\n",
    "def random_jitter(image):\n",
    "  # Expand and crop\n",
    "  image = tf.image.resize(image, (286,286))\n",
    "  image = tf.image.random_crop(image, size=INPUT_SHAPE)\n",
    "  # Random mirroring\n",
    "  image = tf.image.random_flip_left_right(image)\n",
    "  return image\n",
    "\n",
    "# Load training data of class A (note the mapping function adds a label)\n",
    "train_A = tf.data.Dataset.from_generator(\n",
    "    gen,\n",
    "    args=[os.path.join(PATH, \"trainA\")],\n",
    "    output_signature=tf.TensorSpec(shape=INPUT_SHAPE, dtype=tf.float32),\n",
    ").cache().map(random_jitter).map(lambda x: (x, 0.)).shuffle(3, reshuffle_each_iteration=True).batch(BATCH_SIZE)\n",
    "# Load training data of class B\n",
    "train_B = tf.data.Dataset.from_generator(\n",
    "    gen,\n",
    "    args=[os.path.join(PATH, \"trainB\")],\n",
    "    output_signature=tf.TensorSpec(shape=INPUT_SHAPE, dtype=tf.float32),\n",
    ").cache().map(random_jitter).map(lambda x: (x, 1.)).shuffle(3, reshuffle_each_iteration=True).batch(BATCH_SIZE)\n",
    "# Zip the training data\n",
    "train = tf.data.Dataset.sample_from_datasets((train_A, train_B), stop_on_empty_dataset=True)\n",
    "\n",
    "# Load test data of class A\n",
    "test_A = tf.data.Dataset.from_generator(\n",
    "    gen,\n",
    "    args=[os.path.join(PATH, \"testA\")],\n",
    "    output_signature=(tf.TensorSpec(shape=INPUT_SHAPE, dtype=tf.float32)),\n",
    ").map(lambda x: (x, 0.)).batch(BATCH_SIZE)\n",
    "# Load test data fo class B\n",
    "test_B = tf.data.Dataset.from_generator(\n",
    "    gen,\n",
    "    args=[os.path.join(PATH, \"testB\")],\n",
    "    output_signature=tf.TensorSpec(shape=INPUT_SHAPE, dtype=tf.float32),\n",
    ").map(lambda x: (x, 1.)).batch(BATCH_SIZE)\n",
    "# Concat the test data\n",
    "test = tf.data.Dataset.sample_from_datasets((test_A, test_B), stop_on_empty_dataset=True)"
   ]
  },
  {
   "attachments": {},
   "cell_type": "markdown",
   "metadata": {},
   "source": [
    "## Build model"
   ]
  },
  {
   "cell_type": "code",
   "execution_count": 3,
   "metadata": {},
   "outputs": [],
   "source": [
    "# Define a function that creates a Sequential model consisting of convolutions\n",
    "def downsampler(nfilters, name=None, strides=(1,1), size=(12,12)):\n",
    "    return tf.keras.Sequential([\n",
    "        tf.keras.layers.Dropout(rate=.4),\n",
    "        tf.keras.layers.Conv2D(filters=nfilters, kernel_size=size, padding=\"same\", strides=strides),\n",
    "        tf.keras.layers.GroupNormalization(groups=nfilters),\n",
    "        tf.keras.layers.LeakyReLU()\n",
    "    ], name=name)\n",
    "\n",
    "# Define a function to return an inception module (defaults to downsampling unless `resize_shape` is given)\n",
    "def inceptionv2(input_shape, nfilters, strides=(1,1), name=None):\n",
    "    inputs = tf.keras.layers.Input(shape=input_shape, batch_size=BATCH_SIZE)\n",
    "    # Separate into brach 1\n",
    "    branch1 = downsampler(nfilters=nfilters//4, size=(1,1), strides=strides)(inputs)\n",
    "    # Separate into brach 2\n",
    "    branch2 = downsampler(nfilters=nfilters//4, size=(1,1), strides=(1,1))(inputs)\n",
    "    branch2 = downsampler(nfilters=nfilters//4, size=(6,6), strides=strides)(branch2)\n",
    "    # Separate into brach 3\n",
    "    branch3 = downsampler(nfilters=nfilters//4, size=(1,1), strides=(1,1))(inputs)\n",
    "    branch3 = downsampler(nfilters=nfilters//4, size=(12,12), strides=strides)(branch3)\n",
    "    # Separate into brach 4\n",
    "    branch4 = tf.keras.layers.MaxPooling2D(pool_size=(3,3), strides=(1,1), padding=\"same\")(inputs)\n",
    "    branch4 = downsampler(nfilters=nfilters//4, size=(1,1), strides=strides)(branch4)\n",
    "    # Concatenate into desired dimensions\n",
    "    outputs = tf.keras.layers.Concatenate()([branch1, branch2, branch3, branch4])\n",
    "    return tf.keras.Model(inputs=inputs, outputs=outputs, name=name)\n",
    "\n",
    "# Define a function to build the encoders\n",
    "def build_encoder(name=\"Encoder\"):\n",
    "    # Get input\n",
    "    inputs = tf.keras.layers.Input(shape=INPUT_SHAPE, batch_size=BATCH_SIZE, name=\"Input\")\n",
    "    x = inputs\n",
    "    # Create some downsampling modules\n",
    "    for i, nfilters in enumerate(FILTERS):\n",
    "        # Create identity with specified number of filters\n",
    "        x_ = downsampler(nfilters, size=(1,1), name=f\"Downsampler_{i*2}\")(x)\n",
    "        # Pass through inception modules\n",
    "        x = downsampler(nfilters=nfilters, size=(3,3), name=f\"Downsampler_{i*2+1}\")(x)\n",
    "        x = inceptionv2(input_shape=x.shape[1:], nfilters=nfilters, name=f\"Inception_{i}\")(x)\n",
    "        # Add identity and skipp layers\n",
    "        x = tf.keras.layers.Add(name=f\"SumSkips_{i}\")([x_, x])\n",
    "        # Reduce size\n",
    "        x = tf.keras.layers.AveragePooling2D(pool_size=(2,2), name=f\"AveragePooling_{i}\")(x)\n",
    "    # Generate prediction\n",
    "    x = tf.keras.layers.Flatten(name=\"Flatten\")(x)\n",
    "    outputs = tf.keras.layers.Dense(1)(x)\n",
    "    return tf.keras.Model(inputs=inputs, outputs=outputs, name=name)\n",
    "model = build_encoder(\"Classifier\")"
   ]
  },
  {
   "attachments": {},
   "cell_type": "markdown",
   "metadata": {},
   "source": [
    "## Train"
   ]
  },
  {
   "cell_type": "code",
   "execution_count": 4,
   "metadata": {},
   "outputs": [
    {
     "name": "stdout",
     "output_type": "stream",
     "text": [
      "Epoch 1/200\n",
      "30/30 - 1094s - loss: 9.6147 - 1094s/epoch - 36s/step\n",
      "Epoch 2/200\n",
      "30/30 - 939s - loss: 2.2241 - 939s/epoch - 31s/step\n",
      "Epoch 3/200\n",
      "30/30 - 934s - loss: 2.3550 - 934s/epoch - 31s/step\n",
      "Epoch 4/200\n",
      "30/30 - 922s - loss: 2.2610 - 922s/epoch - 31s/step\n",
      "Epoch 5/200\n",
      "30/30 - 960s - loss: 2.0555 - 960s/epoch - 32s/step\n",
      "Epoch 6/200\n",
      "30/30 - 957s - loss: 1.6518 - 957s/epoch - 32s/step\n",
      "Epoch 7/200\n",
      "30/30 - 977s - loss: 1.3310 - 977s/epoch - 33s/step\n",
      "Epoch 8/200\n",
      "30/30 - 956s - loss: 1.4709 - 956s/epoch - 32s/step\n",
      "Epoch 9/200\n",
      "30/30 - 1000s - loss: 1.3588 - 1000s/epoch - 33s/step\n",
      "Epoch 10/200\n",
      "30/30 - 981s - loss: 1.2907 - 981s/epoch - 33s/step\n",
      "Epoch 11/200\n",
      "30/30 - 977s - loss: 1.2239 - 977s/epoch - 33s/step\n",
      "Epoch 12/200\n",
      "30/30 - 981s - loss: 1.2714 - 981s/epoch - 33s/step\n",
      "Epoch 13/200\n",
      "30/30 - 974s - loss: 1.0492 - 974s/epoch - 32s/step\n",
      "Epoch 14/200\n",
      "30/30 - 976s - loss: 0.9569 - 976s/epoch - 33s/step\n",
      "Epoch 15/200\n",
      "30/30 - 982s - loss: 0.8663 - 982s/epoch - 33s/step\n",
      "Epoch 16/200\n",
      "30/30 - 974s - loss: 0.7994 - 974s/epoch - 32s/step\n",
      "Epoch 17/200\n",
      "30/30 - 978s - loss: 0.7327 - 978s/epoch - 33s/step\n",
      "Epoch 18/200\n",
      "30/30 - 990s - loss: 0.7708 - 990s/epoch - 33s/step\n",
      "Epoch 19/200\n",
      "30/30 - 940s - loss: 0.7171 - 940s/epoch - 31s/step\n",
      "Epoch 20/200\n",
      "30/30 - 927s - loss: 0.5962 - 927s/epoch - 31s/step\n",
      "Epoch 21/200\n",
      "30/30 - 932s - loss: 0.6661 - 932s/epoch - 31s/step\n",
      "Epoch 22/200\n",
      "30/30 - 932s - loss: 0.4140 - 932s/epoch - 31s/step\n",
      "Epoch 23/200\n",
      "30/30 - 934s - loss: 0.5442 - 934s/epoch - 31s/step\n",
      "Epoch 24/200\n",
      "30/30 - 933s - loss: 0.5165 - 933s/epoch - 31s/step\n",
      "Epoch 25/200\n",
      "30/30 - 943s - loss: 0.5161 - 943s/epoch - 31s/step\n",
      "Epoch 26/200\n",
      "30/30 - 936s - loss: 0.3865 - 936s/epoch - 31s/step\n",
      "Epoch 27/200\n",
      "30/30 - 932s - loss: 0.5163 - 932s/epoch - 31s/step\n",
      "Epoch 28/200\n",
      "30/30 - 941s - loss: 0.4793 - 941s/epoch - 31s/step\n",
      "Epoch 29/200\n",
      "30/30 - 1034s - loss: 0.3733 - 1034s/epoch - 34s/step\n",
      "Epoch 30/200\n",
      "30/30 - 977s - loss: 0.4267 - 977s/epoch - 33s/step\n",
      "Epoch 31/200\n",
      "30/30 - 977s - loss: 0.4739 - 977s/epoch - 33s/step\n",
      "Epoch 32/200\n",
      "30/30 - 927s - loss: 0.3888 - 927s/epoch - 31s/step\n",
      "Epoch 33/200\n",
      "30/30 - 919s - loss: 0.3412 - 919s/epoch - 31s/step\n",
      "Epoch 34/200\n",
      "30/30 - 917s - loss: 0.3008 - 917s/epoch - 31s/step\n",
      "Epoch 35/200\n",
      "30/30 - 917s - loss: 0.2962 - 917s/epoch - 31s/step\n",
      "Epoch 36/200\n"
     ]
    },
    {
     "ename": "KeyboardInterrupt",
     "evalue": "",
     "output_type": "error",
     "traceback": [
      "\u001b[1;31m---------------------------------------------------------------------------\u001b[0m",
      "\u001b[1;31mKeyboardInterrupt\u001b[0m                         Traceback (most recent call last)",
      "Cell \u001b[1;32mIn[4], line 2\u001b[0m\n\u001b[0;32m      1\u001b[0m model\u001b[39m.\u001b[39mcompile(optimizer\u001b[39m=\u001b[39m\u001b[39m\"\u001b[39m\u001b[39madam\u001b[39m\u001b[39m\"\u001b[39m, loss\u001b[39m=\u001b[39mtf\u001b[39m.\u001b[39mkeras\u001b[39m.\u001b[39mlosses\u001b[39m.\u001b[39mBinaryCrossentropy(from_logits\u001b[39m=\u001b[39m\u001b[39mTrue\u001b[39;00m))\n\u001b[1;32m----> 2\u001b[0m history \u001b[39m=\u001b[39m model\u001b[39m.\u001b[39;49mfit(train, epochs\u001b[39m=\u001b[39;49m\u001b[39m200\u001b[39;49m, verbose\u001b[39m=\u001b[39;49m\u001b[39m2\u001b[39;49m)\n\u001b[0;32m      3\u001b[0m model\u001b[39m.\u001b[39msave(\u001b[39m\"\u001b[39m\u001b[39mclassifier\u001b[39m\u001b[39m\"\u001b[39m, save_format\u001b[39m=\u001b[39m\u001b[39m\"\u001b[39m\u001b[39mkeras\u001b[39m\u001b[39m\"\u001b[39m)\n\u001b[0;32m      4\u001b[0m json\u001b[39m.\u001b[39mdump(history\u001b[39m.\u001b[39mhistory, \u001b[39mopen\u001b[39m(\u001b[39m\"\u001b[39m\u001b[39mclassifier_history.json\u001b[39m\u001b[39m\"\u001b[39m, mode\u001b[39m=\u001b[39m\u001b[39m\"\u001b[39m\u001b[39mw\u001b[39m\u001b[39m\"\u001b[39m))\n",
      "File \u001b[1;32mc:\\Users\\Thijs\\anaconda3\\lib\\site-packages\\keras\\utils\\traceback_utils.py:65\u001b[0m, in \u001b[0;36mfilter_traceback.<locals>.error_handler\u001b[1;34m(*args, **kwargs)\u001b[0m\n\u001b[0;32m     63\u001b[0m filtered_tb \u001b[39m=\u001b[39m \u001b[39mNone\u001b[39;00m\n\u001b[0;32m     64\u001b[0m \u001b[39mtry\u001b[39;00m:\n\u001b[1;32m---> 65\u001b[0m     \u001b[39mreturn\u001b[39;00m fn(\u001b[39m*\u001b[39margs, \u001b[39m*\u001b[39m\u001b[39m*\u001b[39mkwargs)\n\u001b[0;32m     66\u001b[0m \u001b[39mexcept\u001b[39;00m \u001b[39mException\u001b[39;00m \u001b[39mas\u001b[39;00m e:\n\u001b[0;32m     67\u001b[0m     filtered_tb \u001b[39m=\u001b[39m _process_traceback_frames(e\u001b[39m.\u001b[39m__traceback__)\n",
      "File \u001b[1;32mc:\\Users\\Thijs\\anaconda3\\lib\\site-packages\\keras\\engine\\training.py:1685\u001b[0m, in \u001b[0;36mModel.fit\u001b[1;34m(self, x, y, batch_size, epochs, verbose, callbacks, validation_split, validation_data, shuffle, class_weight, sample_weight, initial_epoch, steps_per_epoch, validation_steps, validation_batch_size, validation_freq, max_queue_size, workers, use_multiprocessing)\u001b[0m\n\u001b[0;32m   1677\u001b[0m \u001b[39mwith\u001b[39;00m tf\u001b[39m.\u001b[39mprofiler\u001b[39m.\u001b[39mexperimental\u001b[39m.\u001b[39mTrace(\n\u001b[0;32m   1678\u001b[0m     \u001b[39m\"\u001b[39m\u001b[39mtrain\u001b[39m\u001b[39m\"\u001b[39m,\n\u001b[0;32m   1679\u001b[0m     epoch_num\u001b[39m=\u001b[39mepoch,\n\u001b[1;32m   (...)\u001b[0m\n\u001b[0;32m   1682\u001b[0m     _r\u001b[39m=\u001b[39m\u001b[39m1\u001b[39m,\n\u001b[0;32m   1683\u001b[0m ):\n\u001b[0;32m   1684\u001b[0m     callbacks\u001b[39m.\u001b[39mon_train_batch_begin(step)\n\u001b[1;32m-> 1685\u001b[0m     tmp_logs \u001b[39m=\u001b[39m \u001b[39mself\u001b[39;49m\u001b[39m.\u001b[39;49mtrain_function(iterator)\n\u001b[0;32m   1686\u001b[0m     \u001b[39mif\u001b[39;00m data_handler\u001b[39m.\u001b[39mshould_sync:\n\u001b[0;32m   1687\u001b[0m         context\u001b[39m.\u001b[39masync_wait()\n",
      "File \u001b[1;32mc:\\Users\\Thijs\\anaconda3\\lib\\site-packages\\tensorflow\\python\\util\\traceback_utils.py:150\u001b[0m, in \u001b[0;36mfilter_traceback.<locals>.error_handler\u001b[1;34m(*args, **kwargs)\u001b[0m\n\u001b[0;32m    148\u001b[0m filtered_tb \u001b[39m=\u001b[39m \u001b[39mNone\u001b[39;00m\n\u001b[0;32m    149\u001b[0m \u001b[39mtry\u001b[39;00m:\n\u001b[1;32m--> 150\u001b[0m   \u001b[39mreturn\u001b[39;00m fn(\u001b[39m*\u001b[39margs, \u001b[39m*\u001b[39m\u001b[39m*\u001b[39mkwargs)\n\u001b[0;32m    151\u001b[0m \u001b[39mexcept\u001b[39;00m \u001b[39mException\u001b[39;00m \u001b[39mas\u001b[39;00m e:\n\u001b[0;32m    152\u001b[0m   filtered_tb \u001b[39m=\u001b[39m _process_traceback_frames(e\u001b[39m.\u001b[39m__traceback__)\n",
      "File \u001b[1;32mc:\\Users\\Thijs\\anaconda3\\lib\\site-packages\\tensorflow\\python\\eager\\polymorphic_function\\polymorphic_function.py:894\u001b[0m, in \u001b[0;36mFunction.__call__\u001b[1;34m(self, *args, **kwds)\u001b[0m\n\u001b[0;32m    891\u001b[0m compiler \u001b[39m=\u001b[39m \u001b[39m\"\u001b[39m\u001b[39mxla\u001b[39m\u001b[39m\"\u001b[39m \u001b[39mif\u001b[39;00m \u001b[39mself\u001b[39m\u001b[39m.\u001b[39m_jit_compile \u001b[39melse\u001b[39;00m \u001b[39m\"\u001b[39m\u001b[39mnonXla\u001b[39m\u001b[39m\"\u001b[39m\n\u001b[0;32m    893\u001b[0m \u001b[39mwith\u001b[39;00m OptionalXlaContext(\u001b[39mself\u001b[39m\u001b[39m.\u001b[39m_jit_compile):\n\u001b[1;32m--> 894\u001b[0m   result \u001b[39m=\u001b[39m \u001b[39mself\u001b[39m\u001b[39m.\u001b[39m_call(\u001b[39m*\u001b[39margs, \u001b[39m*\u001b[39m\u001b[39m*\u001b[39mkwds)\n\u001b[0;32m    896\u001b[0m new_tracing_count \u001b[39m=\u001b[39m \u001b[39mself\u001b[39m\u001b[39m.\u001b[39mexperimental_get_tracing_count()\n\u001b[0;32m    897\u001b[0m without_tracing \u001b[39m=\u001b[39m (tracing_count \u001b[39m==\u001b[39m new_tracing_count)\n",
      "File \u001b[1;32mc:\\Users\\Thijs\\anaconda3\\lib\\site-packages\\tensorflow\\python\\eager\\polymorphic_function\\polymorphic_function.py:926\u001b[0m, in \u001b[0;36mFunction._call\u001b[1;34m(self, *args, **kwds)\u001b[0m\n\u001b[0;32m    923\u001b[0m   \u001b[39mself\u001b[39m\u001b[39m.\u001b[39m_lock\u001b[39m.\u001b[39mrelease()\n\u001b[0;32m    924\u001b[0m   \u001b[39m# In this case we have created variables on the first call, so we run the\u001b[39;00m\n\u001b[0;32m    925\u001b[0m   \u001b[39m# defunned version which is guaranteed to never create variables.\u001b[39;00m\n\u001b[1;32m--> 926\u001b[0m   \u001b[39mreturn\u001b[39;00m \u001b[39mself\u001b[39m\u001b[39m.\u001b[39m_no_variable_creation_fn(\u001b[39m*\u001b[39margs, \u001b[39m*\u001b[39m\u001b[39m*\u001b[39mkwds)  \u001b[39m# pylint: disable=not-callable\u001b[39;00m\n\u001b[0;32m    927\u001b[0m \u001b[39melif\u001b[39;00m \u001b[39mself\u001b[39m\u001b[39m.\u001b[39m_variable_creation_fn \u001b[39mis\u001b[39;00m \u001b[39mnot\u001b[39;00m \u001b[39mNone\u001b[39;00m:\n\u001b[0;32m    928\u001b[0m   \u001b[39m# Release the lock early so that multiple threads can perform the call\u001b[39;00m\n\u001b[0;32m    929\u001b[0m   \u001b[39m# in parallel.\u001b[39;00m\n\u001b[0;32m    930\u001b[0m   \u001b[39mself\u001b[39m\u001b[39m.\u001b[39m_lock\u001b[39m.\u001b[39mrelease()\n",
      "File \u001b[1;32mc:\\Users\\Thijs\\anaconda3\\lib\\site-packages\\tensorflow\\python\\eager\\polymorphic_function\\tracing_compiler.py:143\u001b[0m, in \u001b[0;36mTracingCompiler.__call__\u001b[1;34m(self, *args, **kwargs)\u001b[0m\n\u001b[0;32m    140\u001b[0m \u001b[39mwith\u001b[39;00m \u001b[39mself\u001b[39m\u001b[39m.\u001b[39m_lock:\n\u001b[0;32m    141\u001b[0m   (concrete_function,\n\u001b[0;32m    142\u001b[0m    filtered_flat_args) \u001b[39m=\u001b[39m \u001b[39mself\u001b[39m\u001b[39m.\u001b[39m_maybe_define_function(args, kwargs)\n\u001b[1;32m--> 143\u001b[0m \u001b[39mreturn\u001b[39;00m concrete_function\u001b[39m.\u001b[39;49m_call_flat(\n\u001b[0;32m    144\u001b[0m     filtered_flat_args, captured_inputs\u001b[39m=\u001b[39;49mconcrete_function\u001b[39m.\u001b[39;49mcaptured_inputs)\n",
      "File \u001b[1;32mc:\\Users\\Thijs\\anaconda3\\lib\\site-packages\\tensorflow\\python\\eager\\polymorphic_function\\monomorphic_function.py:1757\u001b[0m, in \u001b[0;36mConcreteFunction._call_flat\u001b[1;34m(self, args, captured_inputs, cancellation_manager)\u001b[0m\n\u001b[0;32m   1753\u001b[0m possible_gradient_type \u001b[39m=\u001b[39m gradients_util\u001b[39m.\u001b[39mPossibleTapeGradientTypes(args)\n\u001b[0;32m   1754\u001b[0m \u001b[39mif\u001b[39;00m (possible_gradient_type \u001b[39m==\u001b[39m gradients_util\u001b[39m.\u001b[39mPOSSIBLE_GRADIENT_TYPES_NONE\n\u001b[0;32m   1755\u001b[0m     \u001b[39mand\u001b[39;00m executing_eagerly):\n\u001b[0;32m   1756\u001b[0m   \u001b[39m# No tape is watching; skip to running the function.\u001b[39;00m\n\u001b[1;32m-> 1757\u001b[0m   \u001b[39mreturn\u001b[39;00m \u001b[39mself\u001b[39m\u001b[39m.\u001b[39m_build_call_outputs(\u001b[39mself\u001b[39;49m\u001b[39m.\u001b[39;49m_inference_function\u001b[39m.\u001b[39;49mcall(\n\u001b[0;32m   1758\u001b[0m       ctx, args, cancellation_manager\u001b[39m=\u001b[39;49mcancellation_manager))\n\u001b[0;32m   1759\u001b[0m forward_backward \u001b[39m=\u001b[39m \u001b[39mself\u001b[39m\u001b[39m.\u001b[39m_select_forward_and_backward_functions(\n\u001b[0;32m   1760\u001b[0m     args,\n\u001b[0;32m   1761\u001b[0m     possible_gradient_type,\n\u001b[0;32m   1762\u001b[0m     executing_eagerly)\n\u001b[0;32m   1763\u001b[0m forward_function, args_with_tangents \u001b[39m=\u001b[39m forward_backward\u001b[39m.\u001b[39mforward()\n",
      "File \u001b[1;32mc:\\Users\\Thijs\\anaconda3\\lib\\site-packages\\tensorflow\\python\\eager\\polymorphic_function\\monomorphic_function.py:381\u001b[0m, in \u001b[0;36m_EagerDefinedFunction.call\u001b[1;34m(self, ctx, args, cancellation_manager)\u001b[0m\n\u001b[0;32m    379\u001b[0m \u001b[39mwith\u001b[39;00m _InterpolateFunctionError(\u001b[39mself\u001b[39m):\n\u001b[0;32m    380\u001b[0m   \u001b[39mif\u001b[39;00m cancellation_manager \u001b[39mis\u001b[39;00m \u001b[39mNone\u001b[39;00m:\n\u001b[1;32m--> 381\u001b[0m     outputs \u001b[39m=\u001b[39m execute\u001b[39m.\u001b[39;49mexecute(\n\u001b[0;32m    382\u001b[0m         \u001b[39mstr\u001b[39;49m(\u001b[39mself\u001b[39;49m\u001b[39m.\u001b[39;49msignature\u001b[39m.\u001b[39;49mname),\n\u001b[0;32m    383\u001b[0m         num_outputs\u001b[39m=\u001b[39;49m\u001b[39mself\u001b[39;49m\u001b[39m.\u001b[39;49m_num_outputs,\n\u001b[0;32m    384\u001b[0m         inputs\u001b[39m=\u001b[39;49margs,\n\u001b[0;32m    385\u001b[0m         attrs\u001b[39m=\u001b[39;49mattrs,\n\u001b[0;32m    386\u001b[0m         ctx\u001b[39m=\u001b[39;49mctx)\n\u001b[0;32m    387\u001b[0m   \u001b[39melse\u001b[39;00m:\n\u001b[0;32m    388\u001b[0m     outputs \u001b[39m=\u001b[39m execute\u001b[39m.\u001b[39mexecute_with_cancellation(\n\u001b[0;32m    389\u001b[0m         \u001b[39mstr\u001b[39m(\u001b[39mself\u001b[39m\u001b[39m.\u001b[39msignature\u001b[39m.\u001b[39mname),\n\u001b[0;32m    390\u001b[0m         num_outputs\u001b[39m=\u001b[39m\u001b[39mself\u001b[39m\u001b[39m.\u001b[39m_num_outputs,\n\u001b[1;32m   (...)\u001b[0m\n\u001b[0;32m    393\u001b[0m         ctx\u001b[39m=\u001b[39mctx,\n\u001b[0;32m    394\u001b[0m         cancellation_manager\u001b[39m=\u001b[39mcancellation_manager)\n",
      "File \u001b[1;32mc:\\Users\\Thijs\\anaconda3\\lib\\site-packages\\tensorflow\\python\\eager\\execute.py:52\u001b[0m, in \u001b[0;36mquick_execute\u001b[1;34m(op_name, num_outputs, inputs, attrs, ctx, name)\u001b[0m\n\u001b[0;32m     50\u001b[0m \u001b[39mtry\u001b[39;00m:\n\u001b[0;32m     51\u001b[0m   ctx\u001b[39m.\u001b[39mensure_initialized()\n\u001b[1;32m---> 52\u001b[0m   tensors \u001b[39m=\u001b[39m pywrap_tfe\u001b[39m.\u001b[39;49mTFE_Py_Execute(ctx\u001b[39m.\u001b[39;49m_handle, device_name, op_name,\n\u001b[0;32m     53\u001b[0m                                       inputs, attrs, num_outputs)\n\u001b[0;32m     54\u001b[0m \u001b[39mexcept\u001b[39;00m core\u001b[39m.\u001b[39m_NotOkStatusException \u001b[39mas\u001b[39;00m e:\n\u001b[0;32m     55\u001b[0m   \u001b[39mif\u001b[39;00m name \u001b[39mis\u001b[39;00m \u001b[39mnot\u001b[39;00m \u001b[39mNone\u001b[39;00m:\n",
      "\u001b[1;31mKeyboardInterrupt\u001b[0m: "
     ]
    }
   ],
   "source": [
    "model.compile(optimizer=\"adam\", loss=tf.keras.losses.BinaryCrossentropy(from_logits=True))\n",
    "history = model.fit(train, epochs=200)\n",
    "model.save(\"classifier\", save_format=\"keras\")\n",
    "json.dump(history.history, open(\"classifier_history.json\", mode=\"w\"))"
   ]
  },
  {
   "attachments": {},
   "cell_type": "markdown",
   "metadata": {},
   "source": [
    "## Self-evaluation"
   ]
  },
  {
   "cell_type": "code",
   "execution_count": 5,
   "metadata": {},
   "outputs": [
    {
     "name": "stdout",
     "output_type": "stream",
     "text": [
      "14/14 [==============================] - 97s 7s/step\n",
      "[30, 70, 0, 112]\n"
     ]
    }
   ],
   "source": [
    "# Load model\n",
    "model = tf.keras.models.load_model(\"./classifier\")\n",
    "\n",
    "# Create predictions\n",
    "y_pred = model.predict(test)\n",
    "y_pred = tf.cast(tf.clip_by_value(y_pred.ravel(), 0, 1), tf.int32)\n",
    "# Get labels\n",
    "y_true = []\n",
    "for x, y in test:\n",
    "    del x\n",
    "    y_true.extend(list(y.numpy()))\n",
    "\n",
    "# Calculate confusion matrix (tn, fp, fn, tp)\n",
    "cm = [0,0,0,0]\n",
    "for yh, y in zip(y_pred, y_true):\n",
    "    if yh==y:\n",
    "        if y==0:\n",
    "            cm[0]+=1\n",
    "        if y==1:\n",
    "            cm[3]+=1\n",
    "    elif y==0:\n",
    "        cm[1]+=1\n",
    "    elif y==1:\n",
    "        cm[2]+=1\n",
    "print(cm)"
   ]
  },
  {
   "attachments": {},
   "cell_type": "markdown",
   "metadata": {},
   "source": [
    "## LDR-evaluation"
   ]
  },
  {
   "cell_type": "code",
   "execution_count": 16,
   "metadata": {},
   "outputs": [
    {
     "name": "stdout",
     "output_type": "stream",
     "text": [
      "6/6 [==============================] - 43s 7s/step\n",
      "6/6 [==============================] - 45s 7s/step\n",
      "6/6 [==============================] - 47s 8s/step\n",
      "6/6 [==============================] - 45s 8s/step\n"
     ]
    }
   ],
   "source": [
    "# Load data\n",
    "reconstructed_A = tf.data.Dataset.from_generator(\n",
    "    gen,\n",
    "    args=[\"./samples/reconstructed_A\"],\n",
    "    output_signature=tf.TensorSpec(shape=INPUT_SHAPE, dtype=tf.float32),\n",
    ").batch(BATCH_SIZE)\n",
    "reconstructed_B = tf.data.Dataset.from_generator(\n",
    "    gen,\n",
    "    args=[\"./samples/reconstructed_B\"],\n",
    "    output_signature=tf.TensorSpec(shape=INPUT_SHAPE, dtype=tf.float32),\n",
    ").batch(BATCH_SIZE)\n",
    "translated_A = tf.data.Dataset.from_generator(\n",
    "    gen,\n",
    "    args=[\"./samples/translated_A\"],\n",
    "    output_signature=tf.TensorSpec(shape=INPUT_SHAPE, dtype=tf.float32),\n",
    ").batch(BATCH_SIZE)\n",
    "translated_B = tf.data.Dataset.from_generator(\n",
    "    gen,\n",
    "    args=[\"./samples/translated_B\"],\n",
    "    output_signature=tf.TensorSpec(shape=INPUT_SHAPE, dtype=tf.float32),\n",
    ").batch(BATCH_SIZE)\n",
    "\n",
    "# Make predictions\n",
    "reconstructed_A_pred = model.predict(reconstructed_A)\n",
    "reconstructed_B_pred = model.predict(reconstructed_B)\n",
    "translated_A_pred = model.predict(translated_A)\n",
    "translated_B_pred = model.predict(translated_B)\n",
    "\n",
    "print(scipy.stats.ttest_ind(reconstructed_A_pred, translated_A_pred, alternative=\"less\"))\n",
    "print(scipy.stats.ttest_ind(reconstructed_B_pred, translated_B_pred, alternative=\"greater\"))"
   ]
  }
 ],
 "metadata": {
  "kernelspec": {
   "display_name": "base",
   "language": "python",
   "name": "python3"
  },
  "language_info": {
   "codemirror_mode": {
    "name": "ipython",
    "version": 3
   },
   "file_extension": ".py",
   "mimetype": "text/x-python",
   "name": "python",
   "nbconvert_exporter": "python",
   "pygments_lexer": "ipython3",
   "version": "3.9.13"
  },
  "orig_nbformat": 4
 },
 "nbformat": 4,
 "nbformat_minor": 2
}
